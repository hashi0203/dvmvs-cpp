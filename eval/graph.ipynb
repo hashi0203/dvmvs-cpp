{
 "cells": [
  {
   "cell_type": "code",
   "execution_count": 1,
   "metadata": {},
   "outputs": [],
   "source": [
    "import matplotlib.pyplot as plt\n",
    "import numpy as np"
   ]
  },
  {
   "cell_type": "code",
   "execution_count": 2,
   "metadata": {},
   "outputs": [],
   "source": [
    "# mses = [np.load(\"python/mses.npz\"), np.load(\"noqt-mses.npz\"), np.load(\"qt-mses.npz\")]\n",
    "# rmses = [np.load(\"python/rmses.npz\"), np.load(\"noqt-rmses.npz\"), np.load(\"qt-rmses.npz\")]\n",
    "mses = [np.load(\"python/mses.npz\"), np.load(\"noqt-mses.npz\"), np.load(\"qt-mses.npz\"), np.load(\"pynq-mses.npz\")]\n",
    "rmses = [np.load(\"python/rmses.npz\"), np.load(\"noqt-rmses.npz\"), np.load(\"qt-rmses.npz\"), np.load(\"pynq-mses.npz\")]"
   ]
  },
  {
   "cell_type": "code",
   "execution_count": 3,
   "metadata": {},
   "outputs": [
    {
     "data": {
      "text/plain": [
       "([<matplotlib.axis.XTick at 0x150ae3880490>,\n",
       "  <matplotlib.axis.XTick at 0x150ae3880460>,\n",
       "  <matplotlib.axis.XTick at 0x150ae38e8250>,\n",
       "  <matplotlib.axis.XTick at 0x150ae1821a60>,\n",
       "  <matplotlib.axis.XTick at 0x150ae1821ee0>,\n",
       "  <matplotlib.axis.XTick at 0x150ae1832670>,\n",
       "  <matplotlib.axis.XTick at 0x150ae1832dc0>,\n",
       "  <matplotlib.axis.XTick at 0x150ae17b9550>,\n",
       "  <matplotlib.axis.XTick at 0x150ae17b9ca0>],\n",
       " [Text(-0.2, 0, 'chess-seq-01'),\n",
       "  Text(0.8, 0, 'chess-seq-02'),\n",
       "  Text(1.8, 0, 'fire-seq-01'),\n",
       "  Text(2.8, 0, 'fire-seq-02'),\n",
       "  Text(3.8, 0, 'heads-seq-02'),\n",
       "  Text(4.8, 0, 'office-seq-01'),\n",
       "  Text(5.8, 0, 'office-seq-03'),\n",
       "  Text(6.8, 0, 'redkitchen-seq-01'),\n",
       "  Text(7.8, 0, 'redkitchen-seq-07')])"
      ]
     },
     "execution_count": 3,
     "metadata": {},
     "output_type": "execute_result"
    },
    {
     "data": {
      "image/png": "[encoded data removed]",
      "text/plain": [
       "<Figure size 432x288 with 1 Axes>"
      ]
     },
     "metadata": {
      "needs_background": "light"
     },
     "output_type": "display_data"
    }
   ],
   "source": [
    "test_dataset_names = [\"chess-seq-01\", \"chess-seq-02\", \"fire-seq-01\", \"fire-seq-02\", \"heads-seq-02\", \"office-seq-01\", \"office-seq-03\", \"redkitchen-seq-01\", \"redkitchen-seq-07\"]\n",
    "colors = ['r', 'g', 'b', 'y']\n",
    "labels = ['python', 'cpp', 'quantize', 'pynq']\n",
    "x = np.arange(len(test_dataset_names))\n",
    "width = 0.2\n",
    "for i, mse in enumerate(mses):\n",
    "    y = [np.mean(mse[test_dataset_name]) for test_dataset_name in test_dataset_names]\n",
    "    plt.bar(x + (i-len(mses)/2) * width, y, label=labels[i], color=colors[i], width=width, align='edge')\n",
    "plt.legend()\n",
    "plt.xticks(x-width, test_dataset_names, rotation=30)"
   ]
  },
  {
   "cell_type": "code",
   "execution_count": null,
   "metadata": {},
   "outputs": [],
   "source": []
  }
 ],
 "metadata": {
  "interpreter": {
   "hash": "4ca2108a6802e912790358072c73d36d839731759da90f11bc4583b20384f4c5"
  },
  "kernelspec": {
   "display_name": "Python 3.8.5 64-bit ('3.8.5')",
   "language": "python",
   "name": "python3"
  },
  "language_info": {
   "codemirror_mode": {
    "name": "ipython",
    "version": 3
   },
   "file_extension": ".py",
   "mimetype": "text/x-python",
   "name": "python",
   "nbconvert_exporter": "python",
   "pygments_lexer": "ipython3",
   "version": "3.8.5"
  },
  "orig_nbformat": 4
 },
 "nbformat": 4,
 "nbformat_minor": 2
}
